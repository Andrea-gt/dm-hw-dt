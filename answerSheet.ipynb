{
 "cells": [
  {
   "cell_type": "markdown",
   "metadata": {},
   "source": [
    "### Imports"
   ]
  },
  {
   "cell_type": "code",
   "execution_count": 1,
   "metadata": {},
   "outputs": [
    {
     "name": "stderr",
     "output_type": "stream",
     "text": [
      "C:\\Users\\agria\\AppData\\Local\\Temp\\ipykernel_20980\\435324303.py:2: DeprecationWarning: \n",
      "Pyarrow will become a required dependency of pandas in the next major release of pandas (pandas 3.0),\n",
      "(to allow more performant data types, such as the Arrow string type, and better interoperability with other libraries)\n",
      "but was not found to be installed on your system.\n",
      "If this would cause problems for you,\n",
      "please provide us feedback at https://github.com/pandas-dev/pandas/issues/54466\n",
      "        \n",
      "  import pandas as pd\n"
     ]
    }
   ],
   "source": [
    "import numpy as np\n",
    "import pandas as pd\n",
    "import matplotlib.pyplot as plt\n",
    "from sklearn.tree import DecisionTreeClassifier \n",
    "from sklearn import tree\n",
    "from sklearn.tree import DecisionTreeRegressor\n",
    "from sklearn.metrics import mean_squared_error, mean_absolute_error, r2_score\n",
    "\n",
    "import seaborn as sns\n",
    "import scipy.stats as stats\n",
    "from scipy.stats import spearmanr\n",
    "import statsmodels.stats.diagnostic as diag\n",
    "from sklearn import preprocessing\n",
    "from sklearn.model_selection import train_test_split\n",
    "from sklearn.preprocessing import OneHotEncoder, OrdinalEncoder, scale\n",
    "from sklearn.linear_model import LinearRegression\n",
    "from sklearn.metrics import mean_squared_error,r2_score\n",
    "from scipy.stats import normaltest\n",
    "import statsmodels.api as sm\n",
    "import sklearn.metrics as metrics\n",
    "from sklearn.cluster import KMeans\n",
    "from sklearn.metrics import silhouette_score\n",
    "import warnings\n",
    "\n",
    "random_state = 42"
   ]
  },
  {
   "cell_type": "markdown",
   "metadata": {},
   "source": [
    "### Data Upload"
   ]
  },
  {
   "cell_type": "code",
   "execution_count": 2,
   "metadata": {},
   "outputs": [
    {
     "data": {
      "text/html": [
       "<div>\n",
       "<style scoped>\n",
       "    .dataframe tbody tr th:only-of-type {\n",
       "        vertical-align: middle;\n",
       "    }\n",
       "\n",
       "    .dataframe tbody tr th {\n",
       "        vertical-align: top;\n",
       "    }\n",
       "\n",
       "    .dataframe thead th {\n",
       "        text-align: right;\n",
       "    }\n",
       "</style>\n",
       "<table border=\"1\" class=\"dataframe\">\n",
       "  <thead>\n",
       "    <tr style=\"text-align: right;\">\n",
       "      <th></th>\n",
       "      <th>Id</th>\n",
       "      <th>MSSubClass</th>\n",
       "      <th>MSZoning</th>\n",
       "      <th>LotFrontage</th>\n",
       "      <th>LotArea</th>\n",
       "      <th>Street</th>\n",
       "      <th>Alley</th>\n",
       "      <th>LotShape</th>\n",
       "      <th>LandContour</th>\n",
       "      <th>Utilities</th>\n",
       "      <th>...</th>\n",
       "      <th>PoolArea</th>\n",
       "      <th>PoolQC</th>\n",
       "      <th>Fence</th>\n",
       "      <th>MiscFeature</th>\n",
       "      <th>MiscVal</th>\n",
       "      <th>MoSold</th>\n",
       "      <th>YrSold</th>\n",
       "      <th>SaleType</th>\n",
       "      <th>SaleCondition</th>\n",
       "      <th>SalePrice</th>\n",
       "    </tr>\n",
       "  </thead>\n",
       "  <tbody>\n",
       "    <tr>\n",
       "      <th>0</th>\n",
       "      <td>1</td>\n",
       "      <td>60</td>\n",
       "      <td>RL</td>\n",
       "      <td>65.0</td>\n",
       "      <td>8450</td>\n",
       "      <td>Pave</td>\n",
       "      <td>NaN</td>\n",
       "      <td>Reg</td>\n",
       "      <td>Lvl</td>\n",
       "      <td>AllPub</td>\n",
       "      <td>...</td>\n",
       "      <td>0</td>\n",
       "      <td>NaN</td>\n",
       "      <td>NaN</td>\n",
       "      <td>NaN</td>\n",
       "      <td>0</td>\n",
       "      <td>2</td>\n",
       "      <td>2008</td>\n",
       "      <td>WD</td>\n",
       "      <td>Normal</td>\n",
       "      <td>208500</td>\n",
       "    </tr>\n",
       "    <tr>\n",
       "      <th>1</th>\n",
       "      <td>2</td>\n",
       "      <td>20</td>\n",
       "      <td>RL</td>\n",
       "      <td>80.0</td>\n",
       "      <td>9600</td>\n",
       "      <td>Pave</td>\n",
       "      <td>NaN</td>\n",
       "      <td>Reg</td>\n",
       "      <td>Lvl</td>\n",
       "      <td>AllPub</td>\n",
       "      <td>...</td>\n",
       "      <td>0</td>\n",
       "      <td>NaN</td>\n",
       "      <td>NaN</td>\n",
       "      <td>NaN</td>\n",
       "      <td>0</td>\n",
       "      <td>5</td>\n",
       "      <td>2007</td>\n",
       "      <td>WD</td>\n",
       "      <td>Normal</td>\n",
       "      <td>181500</td>\n",
       "    </tr>\n",
       "    <tr>\n",
       "      <th>2</th>\n",
       "      <td>3</td>\n",
       "      <td>60</td>\n",
       "      <td>RL</td>\n",
       "      <td>68.0</td>\n",
       "      <td>11250</td>\n",
       "      <td>Pave</td>\n",
       "      <td>NaN</td>\n",
       "      <td>IR1</td>\n",
       "      <td>Lvl</td>\n",
       "      <td>AllPub</td>\n",
       "      <td>...</td>\n",
       "      <td>0</td>\n",
       "      <td>NaN</td>\n",
       "      <td>NaN</td>\n",
       "      <td>NaN</td>\n",
       "      <td>0</td>\n",
       "      <td>9</td>\n",
       "      <td>2008</td>\n",
       "      <td>WD</td>\n",
       "      <td>Normal</td>\n",
       "      <td>223500</td>\n",
       "    </tr>\n",
       "    <tr>\n",
       "      <th>3</th>\n",
       "      <td>4</td>\n",
       "      <td>70</td>\n",
       "      <td>RL</td>\n",
       "      <td>60.0</td>\n",
       "      <td>9550</td>\n",
       "      <td>Pave</td>\n",
       "      <td>NaN</td>\n",
       "      <td>IR1</td>\n",
       "      <td>Lvl</td>\n",
       "      <td>AllPub</td>\n",
       "      <td>...</td>\n",
       "      <td>0</td>\n",
       "      <td>NaN</td>\n",
       "      <td>NaN</td>\n",
       "      <td>NaN</td>\n",
       "      <td>0</td>\n",
       "      <td>2</td>\n",
       "      <td>2006</td>\n",
       "      <td>WD</td>\n",
       "      <td>Abnorml</td>\n",
       "      <td>140000</td>\n",
       "    </tr>\n",
       "    <tr>\n",
       "      <th>4</th>\n",
       "      <td>5</td>\n",
       "      <td>60</td>\n",
       "      <td>RL</td>\n",
       "      <td>84.0</td>\n",
       "      <td>14260</td>\n",
       "      <td>Pave</td>\n",
       "      <td>NaN</td>\n",
       "      <td>IR1</td>\n",
       "      <td>Lvl</td>\n",
       "      <td>AllPub</td>\n",
       "      <td>...</td>\n",
       "      <td>0</td>\n",
       "      <td>NaN</td>\n",
       "      <td>NaN</td>\n",
       "      <td>NaN</td>\n",
       "      <td>0</td>\n",
       "      <td>12</td>\n",
       "      <td>2008</td>\n",
       "      <td>WD</td>\n",
       "      <td>Normal</td>\n",
       "      <td>250000</td>\n",
       "    </tr>\n",
       "    <tr>\n",
       "      <th>...</th>\n",
       "      <td>...</td>\n",
       "      <td>...</td>\n",
       "      <td>...</td>\n",
       "      <td>...</td>\n",
       "      <td>...</td>\n",
       "      <td>...</td>\n",
       "      <td>...</td>\n",
       "      <td>...</td>\n",
       "      <td>...</td>\n",
       "      <td>...</td>\n",
       "      <td>...</td>\n",
       "      <td>...</td>\n",
       "      <td>...</td>\n",
       "      <td>...</td>\n",
       "      <td>...</td>\n",
       "      <td>...</td>\n",
       "      <td>...</td>\n",
       "      <td>...</td>\n",
       "      <td>...</td>\n",
       "      <td>...</td>\n",
       "      <td>...</td>\n",
       "    </tr>\n",
       "    <tr>\n",
       "      <th>1455</th>\n",
       "      <td>1456</td>\n",
       "      <td>60</td>\n",
       "      <td>RL</td>\n",
       "      <td>62.0</td>\n",
       "      <td>7917</td>\n",
       "      <td>Pave</td>\n",
       "      <td>NaN</td>\n",
       "      <td>Reg</td>\n",
       "      <td>Lvl</td>\n",
       "      <td>AllPub</td>\n",
       "      <td>...</td>\n",
       "      <td>0</td>\n",
       "      <td>NaN</td>\n",
       "      <td>NaN</td>\n",
       "      <td>NaN</td>\n",
       "      <td>0</td>\n",
       "      <td>8</td>\n",
       "      <td>2007</td>\n",
       "      <td>WD</td>\n",
       "      <td>Normal</td>\n",
       "      <td>175000</td>\n",
       "    </tr>\n",
       "    <tr>\n",
       "      <th>1456</th>\n",
       "      <td>1457</td>\n",
       "      <td>20</td>\n",
       "      <td>RL</td>\n",
       "      <td>85.0</td>\n",
       "      <td>13175</td>\n",
       "      <td>Pave</td>\n",
       "      <td>NaN</td>\n",
       "      <td>Reg</td>\n",
       "      <td>Lvl</td>\n",
       "      <td>AllPub</td>\n",
       "      <td>...</td>\n",
       "      <td>0</td>\n",
       "      <td>NaN</td>\n",
       "      <td>MnPrv</td>\n",
       "      <td>NaN</td>\n",
       "      <td>0</td>\n",
       "      <td>2</td>\n",
       "      <td>2010</td>\n",
       "      <td>WD</td>\n",
       "      <td>Normal</td>\n",
       "      <td>210000</td>\n",
       "    </tr>\n",
       "    <tr>\n",
       "      <th>1457</th>\n",
       "      <td>1458</td>\n",
       "      <td>70</td>\n",
       "      <td>RL</td>\n",
       "      <td>66.0</td>\n",
       "      <td>9042</td>\n",
       "      <td>Pave</td>\n",
       "      <td>NaN</td>\n",
       "      <td>Reg</td>\n",
       "      <td>Lvl</td>\n",
       "      <td>AllPub</td>\n",
       "      <td>...</td>\n",
       "      <td>0</td>\n",
       "      <td>NaN</td>\n",
       "      <td>GdPrv</td>\n",
       "      <td>Shed</td>\n",
       "      <td>2500</td>\n",
       "      <td>5</td>\n",
       "      <td>2010</td>\n",
       "      <td>WD</td>\n",
       "      <td>Normal</td>\n",
       "      <td>266500</td>\n",
       "    </tr>\n",
       "    <tr>\n",
       "      <th>1458</th>\n",
       "      <td>1459</td>\n",
       "      <td>20</td>\n",
       "      <td>RL</td>\n",
       "      <td>68.0</td>\n",
       "      <td>9717</td>\n",
       "      <td>Pave</td>\n",
       "      <td>NaN</td>\n",
       "      <td>Reg</td>\n",
       "      <td>Lvl</td>\n",
       "      <td>AllPub</td>\n",
       "      <td>...</td>\n",
       "      <td>0</td>\n",
       "      <td>NaN</td>\n",
       "      <td>NaN</td>\n",
       "      <td>NaN</td>\n",
       "      <td>0</td>\n",
       "      <td>4</td>\n",
       "      <td>2010</td>\n",
       "      <td>WD</td>\n",
       "      <td>Normal</td>\n",
       "      <td>142125</td>\n",
       "    </tr>\n",
       "    <tr>\n",
       "      <th>1459</th>\n",
       "      <td>1460</td>\n",
       "      <td>20</td>\n",
       "      <td>RL</td>\n",
       "      <td>75.0</td>\n",
       "      <td>9937</td>\n",
       "      <td>Pave</td>\n",
       "      <td>NaN</td>\n",
       "      <td>Reg</td>\n",
       "      <td>Lvl</td>\n",
       "      <td>AllPub</td>\n",
       "      <td>...</td>\n",
       "      <td>0</td>\n",
       "      <td>NaN</td>\n",
       "      <td>NaN</td>\n",
       "      <td>NaN</td>\n",
       "      <td>0</td>\n",
       "      <td>6</td>\n",
       "      <td>2008</td>\n",
       "      <td>WD</td>\n",
       "      <td>Normal</td>\n",
       "      <td>147500</td>\n",
       "    </tr>\n",
       "  </tbody>\n",
       "</table>\n",
       "<p>1460 rows × 81 columns</p>\n",
       "</div>"
      ],
      "text/plain": [
       "        Id  MSSubClass MSZoning  LotFrontage  LotArea Street Alley LotShape  \\\n",
       "0        1          60       RL         65.0     8450   Pave   NaN      Reg   \n",
       "1        2          20       RL         80.0     9600   Pave   NaN      Reg   \n",
       "2        3          60       RL         68.0    11250   Pave   NaN      IR1   \n",
       "3        4          70       RL         60.0     9550   Pave   NaN      IR1   \n",
       "4        5          60       RL         84.0    14260   Pave   NaN      IR1   \n",
       "...    ...         ...      ...          ...      ...    ...   ...      ...   \n",
       "1455  1456          60       RL         62.0     7917   Pave   NaN      Reg   \n",
       "1456  1457          20       RL         85.0    13175   Pave   NaN      Reg   \n",
       "1457  1458          70       RL         66.0     9042   Pave   NaN      Reg   \n",
       "1458  1459          20       RL         68.0     9717   Pave   NaN      Reg   \n",
       "1459  1460          20       RL         75.0     9937   Pave   NaN      Reg   \n",
       "\n",
       "     LandContour Utilities  ... PoolArea PoolQC  Fence MiscFeature MiscVal  \\\n",
       "0            Lvl    AllPub  ...        0    NaN    NaN         NaN       0   \n",
       "1            Lvl    AllPub  ...        0    NaN    NaN         NaN       0   \n",
       "2            Lvl    AllPub  ...        0    NaN    NaN         NaN       0   \n",
       "3            Lvl    AllPub  ...        0    NaN    NaN         NaN       0   \n",
       "4            Lvl    AllPub  ...        0    NaN    NaN         NaN       0   \n",
       "...          ...       ...  ...      ...    ...    ...         ...     ...   \n",
       "1455         Lvl    AllPub  ...        0    NaN    NaN         NaN       0   \n",
       "1456         Lvl    AllPub  ...        0    NaN  MnPrv         NaN       0   \n",
       "1457         Lvl    AllPub  ...        0    NaN  GdPrv        Shed    2500   \n",
       "1458         Lvl    AllPub  ...        0    NaN    NaN         NaN       0   \n",
       "1459         Lvl    AllPub  ...        0    NaN    NaN         NaN       0   \n",
       "\n",
       "     MoSold YrSold  SaleType  SaleCondition  SalePrice  \n",
       "0         2   2008        WD         Normal     208500  \n",
       "1         5   2007        WD         Normal     181500  \n",
       "2         9   2008        WD         Normal     223500  \n",
       "3         2   2006        WD        Abnorml     140000  \n",
       "4        12   2008        WD         Normal     250000  \n",
       "...     ...    ...       ...            ...        ...  \n",
       "1455      8   2007        WD         Normal     175000  \n",
       "1456      2   2010        WD         Normal     210000  \n",
       "1457      5   2010        WD         Normal     266500  \n",
       "1458      4   2010        WD         Normal     142125  \n",
       "1459      6   2008        WD         Normal     147500  \n",
       "\n",
       "[1460 rows x 81 columns]"
      ]
     },
     "execution_count": 2,
     "metadata": {},
     "output_type": "execute_result"
    }
   ],
   "source": [
    "df = pd.read_csv('./data/train.csv')\n",
    "df"
   ]
  },
  {
   "cell_type": "markdown",
   "metadata": {},
   "source": [
    "### Data Preprocessing"
   ]
  },
  {
   "cell_type": "markdown",
   "metadata": {},
   "source": [
    "#### Handling Missing Values"
   ]
  },
  {
   "cell_type": "code",
   "execution_count": 3,
   "metadata": {},
   "outputs": [],
   "source": [
    "# Remove rows with missing values in 'MasVnrType', 'MasVnrArea', and 'Electrical' columns.\n",
    "df.dropna(subset=['MasVnrType', 'MasVnrArea', 'Electrical'], inplace=True)"
   ]
  },
  {
   "cell_type": "code",
   "execution_count": 4,
   "metadata": {},
   "outputs": [
    {
     "name": "stderr",
     "output_type": "stream",
     "text": [
      "c:\\Users\\agria\\AppData\\Local\\Programs\\Python\\Python312\\Lib\\site-packages\\numpy\\lib\\nanfunctions.py:1215: RuntimeWarning: Mean of empty slice\n",
      "  return np.nanmean(a, axis, out=out, keepdims=keepdims)\n"
     ]
    }
   ],
   "source": [
    "# Impute missing LotFrontage values based on the median LotFrontage within each neighborhood.\n",
    "df['LotFrontage'] = df.groupby('Neighborhood')['LotFrontage'].transform(lambda x: x.fillna(x.median()))"
   ]
  },
  {
   "cell_type": "code",
   "execution_count": 5,
   "metadata": {},
   "outputs": [],
   "source": [
    "# Fill missing values in FireplaceQu with 'None'.\n",
    "df['FireplaceQu'] = df['FireplaceQu'].fillna('None')"
   ]
  },
  {
   "cell_type": "code",
   "execution_count": 6,
   "metadata": {},
   "outputs": [],
   "source": [
    "# Fill missing values in garage-related variables with 'None'.\n",
    "df['GarageType'] = df['GarageType'].fillna('None')\n",
    "df['GarageYrBlt'] = df['GarageYrBlt'].fillna(0)\n",
    "df['GarageFinish'] = df['GarageFinish'].fillna('None')\n",
    "df['GarageQual'] = df['GarageQual'].fillna('None')\n",
    "df['GarageCond'] = df['GarageCond'].fillna('None')"
   ]
  },
  {
   "cell_type": "code",
   "execution_count": 7,
   "metadata": {},
   "outputs": [],
   "source": [
    "# Fill missing values in basement-related variables with 'None'.\n",
    "df['BsmtQual'] = df['BsmtQual'].fillna('None')\n",
    "df['BsmtCond'] = df['BsmtCond'].fillna('None')\n",
    "df['BsmtExposure'] = df['BsmtExposure'].fillna('None')\n",
    "df['BsmtFinType1'] = df['BsmtFinType1'].fillna('None')\n",
    "df['BsmtFinType2'] = df['BsmtFinType2'].fillna('None')"
   ]
  },
  {
   "cell_type": "code",
   "execution_count": 8,
   "metadata": {},
   "outputs": [],
   "source": [
    "# Drop columns with a high count of missing values\n",
    "df.drop(['Alley', 'PoolQC', 'Fence', 'MiscFeature'], axis=1, inplace=True)"
   ]
  },
  {
   "cell_type": "markdown",
   "metadata": {},
   "source": [
    "#### Encoding"
   ]
  },
  {
   "cell_type": "code",
   "execution_count": 9,
   "metadata": {},
   "outputs": [],
   "source": [
    "nominalFeatures = ['MSZoning', 'Street', 'LotShape', 'LandContour', 'Utilities', 'LotConfig',\n",
    "                    'LandSlope', 'Neighborhood', 'Condition1', 'Condition2', 'BldgType', 'HouseStyle',\n",
    "                    'RoofStyle', 'RoofMatl', 'Exterior1st', 'Exterior2nd', 'MasVnrType', 'Foundation',\n",
    "                    'Heating', 'CentralAir', 'Electrical', 'GarageType', 'SaleType',\n",
    "                    'SaleCondition','PavedDrive']\n",
    "\n",
    "ordinalFeatures = ['ExterQual', 'ExterCond', 'BsmtQual', 'BsmtCond', 'HeatingQC', 'KitchenQual','FireplaceQu',\n",
    "                    'GarageQual', 'GarageCond']\n",
    "\n",
    "otherOrdinalFeatures = ['BsmtExposure', 'BsmtFinType1', 'BsmtFinType2', 'Functional', 'GarageFinish']"
   ]
  },
  {
   "cell_type": "code",
   "execution_count": 10,
   "metadata": {},
   "outputs": [],
   "source": [
    "df = pd.get_dummies(df, columns = nominalFeatures)"
   ]
  },
  {
   "cell_type": "code",
   "execution_count": 11,
   "metadata": {},
   "outputs": [],
   "source": [
    "ordinalCategories = [['None', 'Po', 'Fa', 'TA', 'Gd', 'Ex'] for _ in ordinalFeatures]\n",
    "\n",
    "ordinalEncoder = OrdinalEncoder(categories=ordinalCategories)\n",
    "ordinalEncoded = ordinalEncoder.fit_transform(df[ordinalFeatures])\n",
    "\n",
    "for i, feature in enumerate(ordinalFeatures):\n",
    "    df[feature] = ordinalEncoded[:, i]"
   ]
  },
  {
   "cell_type": "code",
   "execution_count": 12,
   "metadata": {},
   "outputs": [],
   "source": [
    "encodingCategories = [\n",
    "    ['None', 'No', 'Mn', 'Av', 'Gd'],  # BsmtExposure\n",
    "    ['None', 'Unf', 'LwQ', 'Rec', 'BLQ', 'ALQ', 'GLQ'],  # BsmtFinType1\n",
    "    ['None', 'Unf', 'LwQ', 'Rec', 'BLQ', 'ALQ', 'GLQ'],  # BsmtFinType2\n",
    "    ['Sev', 'Maj2', 'Maj1', 'Mod', 'Min2', 'Min1', 'Typ'], # Functional\n",
    "    ['None', 'Unf', 'RFn', 'Fin']  # GarageFinish\n",
    "]\n",
    "\n",
    "ordinalEncoder = OrdinalEncoder(categories=encodingCategories)\n",
    "ordinalEncoded = ordinalEncoder.fit_transform(df[otherOrdinalFeatures])\n",
    "\n",
    "for i, feature in enumerate(otherOrdinalFeatures):\n",
    "    df[feature] = ordinalEncoded[:, i]"
   ]
  },
  {
   "cell_type": "markdown",
   "metadata": {},
   "source": [
    "#### Splitting DataSet"
   ]
  },
  {
   "cell_type": "code",
   "execution_count": 13,
   "metadata": {},
   "outputs": [],
   "source": [
    "df_cp = df.copy()\n",
    "y = df_cp.pop('SalePrice')\n",
    "X = df_cp"
   ]
  },
  {
   "cell_type": "code",
   "execution_count": 14,
   "metadata": {},
   "outputs": [],
   "source": [
    "X_train, X_test, y_train, y_test = train_test_split(X, y, test_size=0.2, train_size=0.8, random_state=random_state)"
   ]
  },
  {
   "cell_type": "code",
   "execution_count": 15,
   "metadata": {},
   "outputs": [
    {
     "name": "stdout",
     "output_type": "stream",
     "text": [
      "(470, 191)\n",
      "(118, 191)\n"
     ]
    }
   ],
   "source": [
    "print(X_train.shape)\n",
    "print(X_test.shape)"
   ]
  },
  {
   "cell_type": "markdown",
   "metadata": {},
   "source": [
    "### Decision Tree"
   ]
  },
  {
   "cell_type": "code",
   "execution_count": 16,
   "metadata": {},
   "outputs": [],
   "source": [
    "clf = DecisionTreeRegressor(max_depth=4, random_state=random_state) \n",
    "clf = clf.fit(X_train, y_train) \n",
    "y_pred = clf.predict(X_test)"
   ]
  },
  {
   "cell_type": "code",
   "execution_count": 17,
   "metadata": {},
   "outputs": [
    {
     "data": {
      "text/plain": [
       "[Text(0.5, 0.9, 'OverallQual <= 7.5\\nsquared_error = 7659150419.573\\nsamples = 470\\nvalue = 217507.47'),\n",
       " Text(0.25, 0.7, 'OverallQual <= 6.5\\nsquared_error = 2036655717.28\\nsamples = 333\\nvalue = 177060.949'),\n",
       " Text(0.125, 0.5, 'GrLivArea <= 1260.0\\nsquared_error = 1130813774.714\\nsamples = 207\\nvalue = 156605.599'),\n",
       " Text(0.0625, 0.3, 'LotArea <= 2500.5\\nsquared_error = 520536638.591\\nsamples = 87\\nvalue = 135515.563'),\n",
       " Text(0.03125, 0.1, 'squared_error = 164076875.0\\nsamples = 8\\nvalue = 92425.0'),\n",
       " Text(0.09375, 0.1, 'squared_error = 349562773.859\\nsamples = 79\\nvalue = 139879.165'),\n",
       " Text(0.1875, 0.3, 'OverallQual <= 5.5\\nsquared_error = 1016999691.526\\nsamples = 120\\nvalue = 171895.875'),\n",
       " Text(0.15625, 0.1, 'squared_error = 596304000.657\\nsamples = 37\\nvalue = 148100.135'),\n",
       " Text(0.21875, 0.1, 'squared_error = 839595589.345\\nsamples = 83\\nvalue = 182503.614'),\n",
       " Text(0.375, 0.5, 'GrLivArea <= 2296.0\\nsquared_error = 1708107477.679\\nsamples = 126\\nvalue = 210666.167'),\n",
       " Text(0.3125, 0.3, 'MSSubClass <= 70.0\\nsquared_error = 1006566500.196\\nsamples = 116\\nvalue = 203316.267'),\n",
       " Text(0.28125, 0.1, 'squared_error = 830935752.905\\nsamples = 80\\nvalue = 213285.912'),\n",
       " Text(0.34375, 0.1, 'squared_error = 685148168.028\\nsamples = 36\\nvalue = 181161.5'),\n",
       " Text(0.4375, 0.3, 'BsmtExposure <= 1.5\\nsquared_error = 1950270305.0\\nsamples = 10\\nvalue = 295925.0'),\n",
       " Text(0.40625, 0.1, 'squared_error = 235970944.0\\nsamples = 5\\nvalue = 263856.0'),\n",
       " Text(0.46875, 0.1, 'squared_error = 1607728144.0\\nsamples = 5\\nvalue = 327994.0'),\n",
       " Text(0.75, 0.7, 'GrLivArea <= 2631.5\\nsquared_error = 7683969121.452\\nsamples = 137\\nvalue = 315819.088'),\n",
       " Text(0.625, 0.5, 'BsmtQual <= 4.5\\nsquared_error = 3920593079.036\\nsamples = 117\\nvalue = 298445.179'),\n",
       " Text(0.5625, 0.3, 'LotFrontage <= 46.0\\nsquared_error = 1467046054.974\\nsamples = 58\\nvalue = 262333.517'),\n",
       " Text(0.53125, 0.1, 'squared_error = 434673469.388\\nsamples = 7\\nvalue = 200071.429'),\n",
       " Text(0.59375, 0.1, 'squared_error = 1003636032.953\\nsamples = 51\\nvalue = 270879.294'),\n",
       " Text(0.6875, 0.3, 'BsmtFinSF1 <= 1277.0\\nsquared_error = 3790383376.477\\nsamples = 59\\nvalue = 333944.78'),\n",
       " Text(0.65625, 0.1, 'squared_error = 2128772023.513\\nsamples = 41\\nvalue = 311563.268'),\n",
       " Text(0.71875, 0.1, 'squared_error = 3835181360.432\\nsamples = 18\\nvalue = 384924.889'),\n",
       " Text(0.875, 0.5, 'OpenPorchSF <= 187.0\\nsquared_error = 17603727337.747\\nsamples = 20\\nvalue = 417456.45'),\n",
       " Text(0.8125, 0.3, 'MoSold <= 2.0\\nsquared_error = 11533139394.249\\nsamples = 17\\nvalue = 453210.529'),\n",
       " Text(0.78125, 0.1, 'squared_error = 7401763122.25\\nsamples = 2\\nvalue = 668966.5'),\n",
       " Text(0.84375, 0.1, 'squared_error = 5049670805.129\\nsamples = 15\\nvalue = 424443.067'),\n",
       " Text(0.9375, 0.3, 'BsmtHalfBath <= 0.5\\nsquared_error = 3710345000.0\\nsamples = 3\\nvalue = 214850.0'),\n",
       " Text(0.90625, 0.1, 'squared_error = 153140625.0\\nsamples = 2\\nvalue = 172375.0'),\n",
       " Text(0.96875, 0.1, 'squared_error = 0.0\\nsamples = 1\\nvalue = 299800.0')]"
      ]
     },
     "execution_count": 17,
     "metadata": {},
     "output_type": "execute_result"
    },
    {
     "data": {
      "image/png": "[encoded data removed]",
      "text/plain": [
       "<Figure size 640x480 with 1 Axes>"
      ]
     },
     "metadata": {},
     "output_type": "display_data"
    }
   ],
   "source": [
    "tree.plot_tree(clf,feature_names=df.columns, class_names=True, filled=True, fontsize=1)"
   ]
  },
  {
   "cell_type": "code",
   "execution_count": 18,
   "metadata": {},
   "outputs": [
    {
     "name": "stdout",
     "output_type": "stream",
     "text": [
      "MSE: 2639356685.80197\n",
      "MAE: 35324.42836033248\n",
      "R²: 0.7086016403400515\n"
     ]
    }
   ],
   "source": [
    "print(\"MSE:\", mean_squared_error(y_test, y_pred))\n",
    "print(\"MAE:\", mean_absolute_error(y_test, y_pred))\n",
    "print(\"R²:\", r2_score(y_test, y_pred))"
   ]
  },
  {
   "cell_type": "code",
   "execution_count": 20,
   "metadata": {},
   "outputs": [
    {
     "name": "stdout",
     "output_type": "stream",
     "text": [
      "Results for max depth = 3:\n",
      "MSE: 2991950907.527589\n",
      "MAE: 36760.9255086387\n",
      "R²: 0.6696734506076347\n",
      "------------------------------------------------\n",
      "Results for max depth = 4:\n",
      "MSE: 2639356685.80197\n",
      "MAE: 35324.42836033248\n",
      "R²: 0.7086016403400515\n",
      "------------------------------------------------\n",
      "Results for max depth = 5:\n",
      "MSE: 2205943262.9051256\n",
      "MAE: 33285.909119068536\n",
      "R²: 0.7564526796353974\n",
      "------------------------------------------------\n",
      "Results for max depth = 6:\n",
      "MSE: 2374048498.5454564\n",
      "MAE: 33406.08248762956\n",
      "R²: 0.7378930093265861\n",
      "------------------------------------------------\n",
      "Results for max depth = 7:\n",
      "MSE: 2486675484.9642215\n",
      "MAE: 32941.22942467853\n",
      "R²: 0.7254584190067486\n",
      "------------------------------------------------\n",
      "Results for max depth = 8:\n",
      "MSE: 2492054388.069909\n",
      "MAE: 35111.7115073492\n",
      "R²: 0.7248645608328235\n",
      "------------------------------------------------\n",
      "Results for max depth = 9:\n",
      "MSE: 2561349438.25384\n",
      "MAE: 36484.87411844731\n",
      "R²: 0.7172140359663765\n",
      "------------------------------------------------\n",
      "Results for max depth = 10:\n",
      "MSE: 2639064096.1248736\n",
      "MAE: 36410.75181304101\n",
      "R²: 0.7086339437238335\n",
      "------------------------------------------------\n"
     ]
    }
   ],
   "source": [
    "depths = range(3, 11)\n",
    "\n",
    "for depth in depths:\n",
    "    model = DecisionTreeRegressor(max_depth=depth, random_state=42)\n",
    "    model.fit(X_train, y_train)\n",
    "    y_pred = model.predict(X_test)\n",
    "    \n",
    "    print(f\"Results for max depth = {depth}:\")\n",
    "    print(\"MSE:\", mean_squared_error(y_test, y_pred))\n",
    "    print(\"MAE:\", mean_absolute_error(y_test, y_pred))\n",
    "    print(\"R²:\", r2_score(y_test, y_pred))\n",
    "    print(\"------------------------------------------------\")\n"
   ]
  },
  {
   "cell_type": "markdown",
   "metadata": {},
   "source": [
    "Basado en los resultados, cada modelo tiene su propio conjunto de compensaciones.\n",
    "- Con una profundidad máxima de 3, el modelo tiene la complejidad más baja. Tiene el mejor valor R² entre los tres, lo que indica un ajuste relativamente bueno a los datos a pesar de su simplicidad.\n",
    "- Con una profundidad de 5, es evidente que es más complejo que el anterior porque muestra una disminución en el rendimiento según el valor R², lo que indica un ajuste ligeramente peor a los datos. Tiene el MSE y MAE más altos, lo que sugiere más errores en sus predicciones.\n",
    "- El modelo más complejo, con una profundidad de 10, muestra una mejora con respecto al modelo de profundidad 5 en términos de MSE, MAE y R². Se encuentra en un punto medio entre los dos primeros modelos en términos tanto de métricas de error como de ajust\n",
    "\n",
    "Con el análisis anterior, el mejor modelo sería con profundidad 3. Esto porque es el que presenta el valor más alto de R², lo que indica que es el que mejor explica la variabilidad de los precios de las casas. Aunque su MSE y MAE son ligeramente más altos en comparación con el modelo de profundidad 10, el mayor valor de R² sugiere que tiene una mejor capacidad de generalización."
   ]
  }
 ],
 "metadata": {
  "kernelspec": {
   "display_name": "env",
   "language": "python",
   "name": "python3"
  },
  "language_info": {
   "codemirror_mode": {
    "name": "ipython",
    "version": 3
   },
   "file_extension": ".py",
   "mimetype": "text/x-python",
   "name": "python",
   "nbconvert_exporter": "python",
   "pygments_lexer": "ipython3",
   "version": "3.12.0"
  }
 },
 "nbformat": 4,
 "nbformat_minor": 2
}
